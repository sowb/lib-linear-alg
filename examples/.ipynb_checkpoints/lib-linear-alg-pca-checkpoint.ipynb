{
 "cells": [
  {
   "cell_type": "raw",
   "id": "54c9e713-d616-47d5-8aa9-ea247eea457a",
   "metadata": {},
   "source": [
    "---\n",
    "title: \"Principal component Analysis in Python and libLinearAlg\"\n",
    "date: \"2021-09-15\"\n",
    "---"
   ]
  },
  {
   "cell_type": "markdown",
   "id": "lovely-score",
   "metadata": {},
   "source": [
    "# Introduction  \n",
    "I built a linear algebra library (for the sake of learning) from scratch using the programming langage C++.  The library can perform matrix arithmetic operations, some statistics, and other matrix transformations. I implemented in the library, algorithms such as, householder reflections, the QR algorithm, the Singular Value Decompostion, etc. I also implemented the Principal Components Analysis (computation by SVD). I call the library *libLinearAlg* \n",
    "\n",
    "In this tutorial, I show how to use libLinearAlg, then  I compare the  PCA results  obtained by using python and my cpp library. \n",
    "\n",
    "> To use it, there is nothing to install. The source code can be downloaded from my github:  \n",
    "git@github.com:sowb/lib-linear-alg.git\n",
    "\n",
    "## Perform PCA on the dataset using python                                          "
   ]
  },
  {
   "cell_type": "code",
   "execution_count": 49,
   "id": "saved-fiction",
   "metadata": {},
   "outputs": [
    {
     "name": "stdout",
     "output_type": "stream",
     "text": [
      "\n",
      "Singular values:  [20.92306556 11.7091661 ]\n",
      "\n",
      "Explained variance:  [0.72962445 0.22850762]\n"
     ]
    },
    {
     "data": {
      "text/html": [
       "<div>\n",
       "<style scoped>\n",
       "    .dataframe tbody tr th:only-of-type {\n",
       "        vertical-align: middle;\n",
       "    }\n",
       "\n",
       "    .dataframe tbody tr th {\n",
       "        vertical-align: top;\n",
       "    }\n",
       "\n",
       "    .dataframe thead th {\n",
       "        text-align: right;\n",
       "    }\n",
       "</style>\n",
       "<table border=\"1\" class=\"dataframe\">\n",
       "  <thead>\n",
       "    <tr style=\"text-align: right;\">\n",
       "      <th></th>\n",
       "      <th>dim_1</th>\n",
       "      <th>dim_2</th>\n",
       "    </tr>\n",
       "  </thead>\n",
       "  <tbody>\n",
       "    <tr>\n",
       "      <th>0</th>\n",
       "      <td>-2.264703</td>\n",
       "      <td>0.480027</td>\n",
       "    </tr>\n",
       "    <tr>\n",
       "      <th>1</th>\n",
       "      <td>-2.080961</td>\n",
       "      <td>-0.674134</td>\n",
       "    </tr>\n",
       "    <tr>\n",
       "      <th>2</th>\n",
       "      <td>-2.364229</td>\n",
       "      <td>-0.341908</td>\n",
       "    </tr>\n",
       "    <tr>\n",
       "      <th>3</th>\n",
       "      <td>-2.299384</td>\n",
       "      <td>-0.597395</td>\n",
       "    </tr>\n",
       "    <tr>\n",
       "      <th>4</th>\n",
       "      <td>-2.389842</td>\n",
       "      <td>0.646835</td>\n",
       "    </tr>\n",
       "  </tbody>\n",
       "</table>\n",
       "</div>"
      ],
      "text/plain": [
       "      dim_1     dim_2\n",
       "0 -2.264703  0.480027\n",
       "1 -2.080961 -0.674134\n",
       "2 -2.364229 -0.341908\n",
       "3 -2.299384 -0.597395\n",
       "4 -2.389842  0.646835"
      ]
     },
     "execution_count": 49,
     "metadata": {},
     "output_type": "execute_result"
    },
    {
     "data": {
      "application/javascript": [
       "\n",
       "            setTimeout(function() {\n",
       "                var nbb_cell_id = 49;\n",
       "                var nbb_unformatted_code = \"import pandas as pd\\nfrom sklearn.decomposition import PCA\\nfrom sklearn.preprocessing import StandardScaler\\nfrom sklearn import datasets\\n\\n# load iris\\niris = datasets.load_iris()\\niris_scaled = StandardScaler().fit_transform(iris.data)\\n\\npca = PCA(n_components=2)  # PCA in 2 dimensions\\ncomponents = pca.fit_transform(iris_scaled)\\n\\nprint(\\\"\\\\nSingular values: \\\", pca.singular_values_)\\nprint(\\\"\\\\nExplained variance: \\\", pca.explained_variance_ratio_)\\n\\npython_pca = pd.DataFrame(data=components, columns=[\\\"dim_1\\\", \\\"dim_2\\\"])\\npython_pca.head()  # 5 first rows\";\n",
       "                var nbb_formatted_code = \"import pandas as pd\\nfrom sklearn.decomposition import PCA\\nfrom sklearn.preprocessing import StandardScaler\\nfrom sklearn import datasets\\n\\n# load iris\\niris = datasets.load_iris()\\niris_scaled = StandardScaler().fit_transform(iris.data)\\n\\npca = PCA(n_components=2)  # PCA in 2 dimensions\\ncomponents = pca.fit_transform(iris_scaled)\\n\\nprint(\\\"\\\\nSingular values: \\\", pca.singular_values_)\\nprint(\\\"\\\\nExplained variance: \\\", pca.explained_variance_ratio_)\\n\\npython_pca = pd.DataFrame(data=components, columns=[\\\"dim_1\\\", \\\"dim_2\\\"])\\npython_pca.head()  # 5 first rows\";\n",
       "                var nbb_cells = Jupyter.notebook.get_cells();\n",
       "                for (var i = 0; i < nbb_cells.length; ++i) {\n",
       "                    if (nbb_cells[i].input_prompt_number == nbb_cell_id) {\n",
       "                        if (nbb_cells[i].get_text() == nbb_unformatted_code) {\n",
       "                             nbb_cells[i].set_text(nbb_formatted_code);\n",
       "                        }\n",
       "                        break;\n",
       "                    }\n",
       "                }\n",
       "            }, 500);\n",
       "            "
      ],
      "text/plain": [
       "<IPython.core.display.Javascript object>"
      ]
     },
     "metadata": {},
     "output_type": "display_data"
    }
   ],
   "source": [
    "import pandas as pd\n",
    "from sklearn.decomposition import PCA\n",
    "from sklearn.preprocessing import StandardScaler\n",
    "from sklearn import datasets\n",
    "\n",
    "# load iris\n",
    "iris = datasets.load_iris()\n",
    "iris_scaled = StandardScaler().fit_transform(iris.data)\n",
    "\n",
    "pca = PCA(n_components=2)  # PCA in 2 dimensions\n",
    "components = pca.fit_transform(iris_scaled)\n",
    "\n",
    "print(\"\\nSingular values: \", pca.singular_values_)\n",
    "print(\"\\nExplained variance: \", pca.explained_variance_ratio_)\n",
    "\n",
    "python_pca = pd.DataFrame(data=components, columns=[\"dim_1\", \"dim_2\"])\n",
    "python_pca.head()  # 5 first rows"
   ]
  },
  {
   "cell_type": "markdown",
   "id": "gothic-concentrate",
   "metadata": {},
   "source": [
    "## Perform PCA using libLinearAlg on C++\n",
    "\n",
    "* The cpp file to perform this task is examples/pca-iris.cpp. This file load, print the data; and perform PCA, save the results in a csv file. The code be compiled on a linux or windows terminal, as shown below.   \n",
    "\n",
    "pca-iris.cpp : \n",
    "\n",
    "```cpp\n",
    "#include <iostream>                                                              \n",
    "#include <string>  \n",
    "#include \"../include/matrix.h\"  \n",
    "\n",
    "using namespace std;                                                             \n",
    "\n",
    "int main()                                                                       \n",
    "{                                                                                \n",
    "     //Load the iris data                                                         \n",
    "     Matrix Iris(\"iris.data\", \",\", false);                                        \n",
    "\n",
    "     // Check dim\n",
    "     print(\"\\nThe dataset dimension\");\n",
    "     Iris.shape();                                                                \n",
    "\n",
    "     // Print the data                                                            \n",
    "     Iris.head(5);                                                                \n",
    "\n",
    "     // Scale the data, perform PCA                                               \n",
    "     Iris = scale(Iris, \"col\");                                                   \n",
    "\n",
    "     Matrix Comp, Z, ExpVar;                                                      \n",
    "     PCA(Iris, &Comp, &Z, &ExpVar, 2);                                            \n",
    "\n",
    "     //Print the results                                                          \n",
    "     print(\"\\nPrincipal components\");                                             \n",
    "     Comp.head(5);                                                                \n",
    "     Z.print(\"Singular Values\");                                                  \n",
    "     ExpVar.print(\"Explained variance\");                                          \n",
    "\n",
    "     // Save the results                                                          \n",
    "     Comp.to_csv(\"iris-pc.csv\");                                                  \n",
    "     Z.to_csv(\"iris-sing-vals.csv\");                                              \n",
    "     ExpVar.to_csv(\"iris-exp-var.csv\");                                           \n",
    "\n",
    "     return 0;                                                                    \n",
    "}                                                                                \n",
    "```        "
   ]
  },
  {
   "cell_type": "markdown",
   "id": "ethical-utility",
   "metadata": {},
   "source": [
    "#### Compile the cpp file on linux "
   ]
  },
  {
   "cell_type": "code",
   "execution_count": 2,
   "id": "alive-wrestling",
   "metadata": {},
   "outputs": [
    {
     "name": "stdout",
     "output_type": "stream",
     "text": [
      "\n",
      "The dataset dimension\n",
      "(nb_rows, nb_cols) = (150, 4)\n",
      "5 first rows:\n",
      "      5.10       3.50       1.40       0.20 \n",
      "      4.90          3       1.40       0.20 \n",
      "      4.70       3.20       1.30       0.20 \n",
      "      4.60       3.10       1.50       0.20 \n",
      "         5       3.60       1.40       0.20 \n",
      "\n",
      "Principal components\n",
      "5 first rows:\n",
      "      2.26      -0.51 \n",
      "      2.09       0.66 \n",
      "      2.37       0.32 \n",
      "      2.30       0.58 \n",
      "      2.39      -0.67 \n",
      "Singular Values\n",
      "     20.90      11.76 \n",
      "Explained variance\n",
      "      0.73       0.23 \n"
     ]
    }
   ],
   "source": [
    "%%bash\n",
    "cd examples\n",
    "g++ -std=c++11 pca-iris.cpp ../lib-unix/libLinearAlg.a && ./a.out"
   ]
  },
  {
   "cell_type": "markdown",
   "id": "native-compiler",
   "metadata": {},
   "source": [
    "### Compile the cpp file on windows"
   ]
  },
  {
   "cell_type": "markdown",
   "id": "5794bf9c-da9d-4a90-815f-91577277141c",
   "metadata": {},
   "source": [
    "%%bash\n",
    "cd examples\n",
    "g++ -std=c++11 /path/pca-iris.cpp ../lib-windows/libLinearAlg.lib \n",
    "./a.exe"
   ]
  },
  {
   "cell_type": "markdown",
   "id": "35d508b3-58bc-4242-80e4-12e05293cb43",
   "metadata": {},
   "source": [
    "> The comparaison shows same "
   ]
  },
  {
   "cell_type": "markdown",
   "id": "sublime-convention",
   "metadata": {
    "tags": []
   },
   "source": [
    "# Visualization of the results obained by using python and C++ (using matplotlib)\n",
    "\n",
    "First I plot the principal components obtained by using sklearn. Then I  import in python  and plot the PC  obtained by my C++ library. The point of doing this is to check if I get the same results.  "
   ]
  },
  {
   "cell_type": "markdown",
   "id": "demonstrated-multimedia",
   "metadata": {},
   "source": [
    "### Visualization of the results obtained by python "
   ]
  },
  {
   "cell_type": "code",
   "execution_count": 26,
   "id": "grave-mediterranean",
   "metadata": {},
   "outputs": [
    {
     "data": {
      "image/png": "[encoded data removed]",
      "text/plain": [
       "<Figure size 1008x432 with 1 Axes>"
      ]
     },
     "metadata": {},
     "output_type": "display_data"
    },
    {
     "data": {
      "application/javascript": [
       "\n",
       "            setTimeout(function() {\n",
       "                var nbb_cell_id = 26;\n",
       "                var nbb_unformatted_code = \"import seaborn as sns\\nimport matplotlib.pyplot as plt\\nplt.rcParams['figure.figsize'] = [14, 6]\\nsns.set()\\n\\nsns.scatterplot(data = python_pca, x = \\\"dim_1\\\", y= \\\"dim_2\\\", hue = iris.target, palette = \\\"deep\\\", style = iris.target)\\nplt.show()\";\n",
       "                var nbb_formatted_code = \"import seaborn as sns\\nimport matplotlib.pyplot as plt\\n\\nplt.rcParams[\\\"figure.figsize\\\"] = [14, 6]\\nsns.set()\\n\\nsns.scatterplot(\\n    data=python_pca,\\n    x=\\\"dim_1\\\",\\n    y=\\\"dim_2\\\",\\n    hue=iris.target,\\n    palette=\\\"deep\\\",\\n    style=iris.target,\\n)\\nplt.show()\";\n",
       "                var nbb_cells = Jupyter.notebook.get_cells();\n",
       "                for (var i = 0; i < nbb_cells.length; ++i) {\n",
       "                    if (nbb_cells[i].input_prompt_number == nbb_cell_id) {\n",
       "                        if (nbb_cells[i].get_text() == nbb_unformatted_code) {\n",
       "                             nbb_cells[i].set_text(nbb_formatted_code);\n",
       "                        }\n",
       "                        break;\n",
       "                    }\n",
       "                }\n",
       "            }, 500);\n",
       "            "
      ],
      "text/plain": [
       "<IPython.core.display.Javascript object>"
      ]
     },
     "metadata": {},
     "output_type": "display_data"
    }
   ],
   "source": [
    "import seaborn as sns\n",
    "import matplotlib.pyplot as plt\n",
    "\n",
    "plt.rcParams[\"figure.figsize\"] = [14, 6]\n",
    "sns.set()\n",
    "\n",
    "sns.scatterplot(\n",
    "    data=python_pca,\n",
    "    x=\"dim_1\",\n",
    "    y=\"dim_2\",\n",
    "    hue=iris.target,\n",
    "    palette=\"deep\",\n",
    "    style=iris.target,\n",
    ")\n",
    "plt.show()"
   ]
  },
  {
   "cell_type": "markdown",
   "id": "intimate-structure",
   "metadata": {},
   "source": [
    "### Visualization of the results obtained my cpp library"
   ]
  },
  {
   "cell_type": "code",
   "execution_count": 46,
   "id": "historic-grant",
   "metadata": {},
   "outputs": [
    {
     "data": {
      "image/png": "[encoded data removed]",
      "text/plain": [
       "<Figure size 1008x432 with 1 Axes>"
      ]
     },
     "metadata": {},
     "output_type": "display_data"
    },
    {
     "data": {
      "application/javascript": [
       "\n",
       "            setTimeout(function() {\n",
       "                var nbb_cell_id = 46;\n",
       "                var nbb_unformatted_code = \"cpp_pca = pd.read_csv(\\\"iris-pc.csv\\\", header=None)\\nsns.scatterplot(\\n    cpp_pca.iloc[:, 0],\\n    cpp_pca.iloc[:, 1],\\n    hue=iris.target,\\n    palette=\\\"deep\\\",\\n    style=iris.target,\\n)\\nplt.show()\";\n",
       "                var nbb_formatted_code = \"cpp_pca = pd.read_csv(\\\"iris-pc.csv\\\", header=None)\\nsns.scatterplot(\\n    cpp_pca.iloc[:, 0],\\n    cpp_pca.iloc[:, 1],\\n    hue=iris.target,\\n    palette=\\\"deep\\\",\\n    style=iris.target,\\n)\\nplt.show()\";\n",
       "                var nbb_cells = Jupyter.notebook.get_cells();\n",
       "                for (var i = 0; i < nbb_cells.length; ++i) {\n",
       "                    if (nbb_cells[i].input_prompt_number == nbb_cell_id) {\n",
       "                        if (nbb_cells[i].get_text() == nbb_unformatted_code) {\n",
       "                             nbb_cells[i].set_text(nbb_formatted_code);\n",
       "                        }\n",
       "                        break;\n",
       "                    }\n",
       "                }\n",
       "            }, 500);\n",
       "            "
      ],
      "text/plain": [
       "<IPython.core.display.Javascript object>"
      ]
     },
     "metadata": {},
     "output_type": "display_data"
    }
   ],
   "source": [
    "cpp_pca = pd.read_csv(\"iris-pc.csv\", header=None)\n",
    "sns.scatterplot(\n",
    "    cpp_pca.iloc[:, 0],\n",
    "    cpp_pca.iloc[:, 1],\n",
    "    hue=iris.target,\n",
    "    palette=\"deep\",\n",
    "    style=iris.target,\n",
    ")\n",
    "plt.show()"
   ]
  },
  {
   "cell_type": "markdown",
   "id": "later-grammar",
   "metadata": {},
   "source": [
    "> __Conclusion__ : We obtain the same results using sklearn or my cpp library.   The only difference between the 2 plots is the position of the points, if we multiply by -1 `cpp_pca` we obtain the same plots. "
   ]
  },
  {
   "cell_type": "code",
   "execution_count": null,
   "id": "d70db460-ec22-4ecc-b473-dcf108cae0d5",
   "metadata": {},
   "outputs": [],
   "source": []
  }
 ],
 "metadata": {
  "kernelspec": {
   "display_name": "Python 3",
   "language": "python",
   "name": "python3"
  },
  "language_info": {
   "codemirror_mode": {
    "name": "ipython",
    "version": 3
   },
   "file_extension": ".py",
   "mimetype": "text/x-python",
   "name": "python",
   "nbconvert_exporter": "python",
   "pygments_lexer": "ipython3",
   "version": "3.7.9"
  }
 },
 "nbformat": 4,
 "nbformat_minor": 5
}
