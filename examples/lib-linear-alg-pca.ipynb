{
 "cells": [
  {
   "cell_type": "markdown",
   "id": "lovely-score",
   "metadata": {},
   "source": [
    "# Introduction  \n",
    "I built a linear algebra library from scratch using the programming langage C++.  The library can perform matrix arithmetic operations, some statistics, and other matrix transformations. I implemented in the library, algorithms such as, householder reflections, the QR algorithm, the Singular Value Decompostion, etc. I also implemented the Principal Components Analysis (computation by SVD). I call the library *libLinearAlg* \n",
    "\n",
    "In this tutorial, I show how to use libLinearAlg, then  I compare the  PCA results  obtained by using python and my cpp library. \n",
    "\n",
    "To use it, there is nothing to install :\n",
    "\n",
    "* The source code can be downloaded from my github repo: https://github.com/sowb/lib-linear-alg/archive/refs/heads/master.zip\n",
    "\n",
    "* Or run  `git clone https://github.com/sowb/lib-linear-alg.git` on the terminal. \n",
    "\n",
    "Make sure that your working directory is the folder lib-linear-alg/examples/\n",
    "\n",
    "## Perform PCA on the dataset using python                                          "
   ]
  },
  {
   "cell_type": "code",
   "execution_count": 1,
   "id": "saved-fiction",
   "metadata": {},
   "outputs": [
    {
     "name": "stdout",
     "output_type": "stream",
     "text": [
      "\n",
      "Singular values:  [20.92306556 11.7091661 ]\n",
      "\n",
      "Explained variance:  [0.72962445 0.22850762]\n"
     ]
    },
    {
     "data": {
      "text/html": [
       "<div>\n",
       "<style scoped>\n",
       "    .dataframe tbody tr th:only-of-type {\n",
       "        vertical-align: middle;\n",
       "    }\n",
       "\n",
       "    .dataframe tbody tr th {\n",
       "        vertical-align: top;\n",
       "    }\n",
       "\n",
       "    .dataframe thead th {\n",
       "        text-align: right;\n",
       "    }\n",
       "</style>\n",
       "<table border=\"1\" class=\"dataframe\">\n",
       "  <thead>\n",
       "    <tr style=\"text-align: right;\">\n",
       "      <th></th>\n",
       "      <th>dim_1</th>\n",
       "      <th>dim_2</th>\n",
       "    </tr>\n",
       "  </thead>\n",
       "  <tbody>\n",
       "    <tr>\n",
       "      <th>0</th>\n",
       "      <td>-2.264703</td>\n",
       "      <td>0.480027</td>\n",
       "    </tr>\n",
       "    <tr>\n",
       "      <th>1</th>\n",
       "      <td>-2.080961</td>\n",
       "      <td>-0.674134</td>\n",
       "    </tr>\n",
       "    <tr>\n",
       "      <th>2</th>\n",
       "      <td>-2.364229</td>\n",
       "      <td>-0.341908</td>\n",
       "    </tr>\n",
       "    <tr>\n",
       "      <th>3</th>\n",
       "      <td>-2.299384</td>\n",
       "      <td>-0.597395</td>\n",
       "    </tr>\n",
       "    <tr>\n",
       "      <th>4</th>\n",
       "      <td>-2.389842</td>\n",
       "      <td>0.646835</td>\n",
       "    </tr>\n",
       "  </tbody>\n",
       "</table>\n",
       "</div>"
      ],
      "text/plain": [
       "      dim_1     dim_2\n",
       "0 -2.264703  0.480027\n",
       "1 -2.080961 -0.674134\n",
       "2 -2.364229 -0.341908\n",
       "3 -2.299384 -0.597395\n",
       "4 -2.389842  0.646835"
      ]
     },
     "execution_count": 1,
     "metadata": {},
     "output_type": "execute_result"
    }
   ],
   "source": [
    "import pandas as pd\n",
    "from sklearn.decomposition import PCA\n",
    "from sklearn.preprocessing import StandardScaler\n",
    "from sklearn import datasets\n",
    "\n",
    "# load iris\n",
    "iris = datasets.load_iris()\n",
    "iris_scaled = StandardScaler().fit_transform(iris.data)\n",
    "\n",
    "pca = PCA(n_components=2)  # PCA in 2 dimensions\n",
    "components = pca.fit_transform(iris_scaled)\n",
    "\n",
    "print(\"\\nSingular values: \", pca.singular_values_)\n",
    "print(\"\\nExplained variance: \", pca.explained_variance_ratio_)\n",
    "\n",
    "python_pca = pd.DataFrame(data=components, columns=[\"dim_1\", \"dim_2\"])\n",
    "python_pca.head()  # 5 first rows"
   ]
  },
  {
   "cell_type": "markdown",
   "id": "635edaa6-a2b3-44f4-b29a-7a5b4f921f64",
   "metadata": {},
   "source": [
    "## Perform PCA using libLinearAlg on C++"
   ]
  },
  {
   "cell_type": "markdown",
   "id": "96f8c808-9e1c-4eff-8982-18c0c50771a9",
   "metadata": {},
   "source": [
    "* Download the iris dataset "
   ]
  },
  {
   "cell_type": "code",
   "execution_count": 17,
   "id": "bc45d63d-1588-41f9-9ac9-d71e4d72ec64",
   "metadata": {},
   "outputs": [],
   "source": [
    "iris = datasets.load_iris()\n",
    "\n",
    "# download the data in a csv file\n",
    "pd.DataFrame(iris.data).to_csv(\"iris.data\", header = False, index = False)"
   ]
  },
  {
   "cell_type": "markdown",
   "id": "f1544e35-bb5a-4484-b7c8-512ceb4aa5f8",
   "metadata": {},
   "source": [
    "* The cpp file to perform this task is examples/pca-iris.cpp. This file load, print the data; and perform PCA, save the results in a csv file. The code be compiled on a linux or windows terminal, as shown below.   \n",
    "\n",
    "pca-iris.cpp : \n",
    "\n",
    "```cpp\n",
    "#include <iostream>                                                              \n",
    "#include <string>  \n",
    "#include \"../include/matrix.h\"  \n",
    "\n",
    "using namespace std;                                                             \n",
    "\n",
    "int main()                                                                       \n",
    "{                                                                                \n",
    "     //Load the iris data                                                         \n",
    "     Matrix Iris(\"iris.data\", \",\", false);                                        \n",
    "\n",
    "     // Check dim\n",
    "     print(\"\\nThe dataset dimension\");\n",
    "     Iris.shape();                                                                \n",
    "\n",
    "     // Print the data                                                            \n",
    "     Iris.head(5);                                                                \n",
    "\n",
    "     // Scale the data, perform PCA                                               \n",
    "     Iris = scale(Iris, \"col\");                                                   \n",
    "\n",
    "     Matrix Comp, Z, ExpVar;                                                      \n",
    "     PCA(Iris, &Comp, &Z, &ExpVar, 2);                                            \n",
    "\n",
    "     //Print the results                                                          \n",
    "     print(\"\\nPrincipal components\");                                             \n",
    "     Comp.head(5);                                                                \n",
    "     Z.print(\"Singular Values\");                                                  \n",
    "     ExpVar.print(\"Explained variance\");                                          \n",
    "\n",
    "     // Save the results                                                          \n",
    "     Comp.to_csv(\"iris-pc.csv\");                                                  \n",
    "     Z.to_csv(\"iris-sing-vals.csv\");                                              \n",
    "     ExpVar.to_csv(\"iris-exp-var.csv\");                                           \n",
    "\n",
    "     return 0;                                                                    \n",
    "}                                                                                \n",
    "```        "
   ]
  },
  {
   "cell_type": "markdown",
   "id": "ethical-utility",
   "metadata": {},
   "source": [
    "#### Compile the cpp file on linux "
   ]
  },
  {
   "cell_type": "code",
   "execution_count": 18,
   "id": "alive-wrestling",
   "metadata": {},
   "outputs": [
    {
     "name": "stdout",
     "output_type": "stream",
     "text": [
      "\n",
      "The dataset dimension\n",
      "(nb_rows, nb_cols) = (150, 4)\n",
      "5 first rows:\n",
      "      5.10       3.50       1.40       0.20 \n",
      "      4.90          3       1.40       0.20 \n",
      "      4.70       3.20       1.30       0.20 \n",
      "      4.60       3.10       1.50       0.20 \n",
      "         5       3.60       1.40       0.20 \n",
      "\n",
      "Principal components\n",
      "5 first rows:\n",
      "      2.26      -0.48 \n",
      "      2.08       0.67 \n",
      "      2.36       0.34 \n",
      "      2.30       0.60 \n",
      "      2.39      -0.65 \n",
      "Singular Values\n",
      "     20.92      11.71 \n",
      "Explained variance\n",
      "      0.73       0.23 \n"
     ]
    },
    {
     "name": "stderr",
     "output_type": "stream",
     "text": [
      "bash: line 1: cd: examples: No such file or directory\n"
     ]
    }
   ],
   "source": [
    "%%bash\n",
    "cd examples\n",
    "g++ -std=c++11 pca-iris.cpp ../lib-unix/libLinearAlg.a && ./a.out"
   ]
  },
  {
   "cell_type": "markdown",
   "id": "native-compiler",
   "metadata": {},
   "source": [
    "### Compile the cpp file on windows"
   ]
  },
  {
   "cell_type": "markdown",
   "id": "5794bf9c-da9d-4a90-815f-91577277141c",
   "metadata": {},
   "source": [
    "```bash\n",
    "cd examples\n",
    "g++ -std=c++11 /path/pca-iris.cpp ../lib-windows/libLinearAlg.lib \n",
    "./a.exe\n",
    "```"
   ]
  },
  {
   "cell_type": "markdown",
   "id": "35d508b3-58bc-4242-80e4-12e05293cb43",
   "metadata": {},
   "source": [
    "> We obtain almost same results from both, sklearn and libLinearAlg. The only difference is that the results obtained by libLinearAlg is multiplied by a negative sign (no big deal !)"
   ]
  },
  {
   "cell_type": "markdown",
   "id": "sublime-convention",
   "metadata": {
    "tags": []
   },
   "source": [
    "# Visualization of the results obained by using python and C++ (using matplotlib)\n",
    "\n",
    "First I plot the principal components obtained by using sklearn. Then I  import in python  and plot the PC  obtained by my C++ library. The point of doing this is to check if I get the same results.  "
   ]
  },
  {
   "cell_type": "markdown",
   "id": "demonstrated-multimedia",
   "metadata": {},
   "source": [
    "### Visualization of the results obtained by python "
   ]
  },
  {
   "cell_type": "code",
   "execution_count": 4,
   "id": "grave-mediterranean",
   "metadata": {},
   "outputs": [
    {
     "data": {
      "image/png": "[encoded data removed]",
      "text/plain": [
       "<Figure size 1008x432 with 1 Axes>"
      ]
     },
     "metadata": {},
     "output_type": "display_data"
    }
   ],
   "source": [
    "import seaborn as sns\n",
    "import matplotlib.pyplot as plt\n",
    "\n",
    "plt.rcParams[\"figure.figsize\"] = [14, 6]\n",
    "sns.set()\n",
    "\n",
    "sns.scatterplot(\n",
    "    data=python_pca,\n",
    "    x=\"dim_1\",\n",
    "    y=\"dim_2\",\n",
    "    hue=iris.target,\n",
    "    palette=\"deep\",\n",
    "    style=iris.target,\n",
    ")\n",
    "plt.show()"
   ]
  },
  {
   "cell_type": "markdown",
   "id": "intimate-structure",
   "metadata": {},
   "source": [
    "### Visualization of the results obtained my cpp library"
   ]
  },
  {
   "cell_type": "code",
   "execution_count": 5,
   "id": "historic-grant",
   "metadata": {},
   "outputs": [
    {
     "ename": "ValueError",
     "evalue": "array length 150 does not match index length 151",
     "output_type": "error",
     "traceback": [
      "\u001b[0;31m---------------------------------------------------------------------------\u001b[0m",
      "\u001b[0;31mValueError\u001b[0m                                Traceback (most recent call last)",
      "\u001b[0;32m<ipython-input-5-a3affa26c77a>\u001b[0m in \u001b[0;36m<module>\u001b[0;34m\u001b[0m\n\u001b[1;32m      5\u001b[0m     \u001b[0mhue\u001b[0m\u001b[0;34m=\u001b[0m\u001b[0miris\u001b[0m\u001b[0;34m.\u001b[0m\u001b[0mtarget\u001b[0m\u001b[0;34m,\u001b[0m\u001b[0;34m\u001b[0m\u001b[0;34m\u001b[0m\u001b[0m\n\u001b[1;32m      6\u001b[0m     \u001b[0mpalette\u001b[0m\u001b[0;34m=\u001b[0m\u001b[0;34m\"deep\"\u001b[0m\u001b[0;34m,\u001b[0m\u001b[0;34m\u001b[0m\u001b[0;34m\u001b[0m\u001b[0m\n\u001b[0;32m----> 7\u001b[0;31m     \u001b[0mstyle\u001b[0m\u001b[0;34m=\u001b[0m\u001b[0miris\u001b[0m\u001b[0;34m.\u001b[0m\u001b[0mtarget\u001b[0m\u001b[0;34m,\u001b[0m\u001b[0;34m\u001b[0m\u001b[0;34m\u001b[0m\u001b[0m\n\u001b[0m\u001b[1;32m      8\u001b[0m )\n\u001b[1;32m      9\u001b[0m \u001b[0mplt\u001b[0m\u001b[0;34m.\u001b[0m\u001b[0mshow\u001b[0m\u001b[0;34m(\u001b[0m\u001b[0;34m)\u001b[0m\u001b[0;34m\u001b[0m\u001b[0;34m\u001b[0m\u001b[0m\n",
      "\u001b[0;32m~/miniconda3/lib/python3.7/site-packages/seaborn/relational.py\u001b[0m in \u001b[0;36mscatterplot\u001b[0;34m(x, y, hue, style, size, data, palette, hue_order, hue_norm, sizes, size_order, size_norm, markers, style_order, x_bins, y_bins, units, estimator, ci, n_boot, alpha, x_jitter, y_jitter, legend, ax, **kwargs)\u001b[0m\n\u001b[1;32m   1395\u001b[0m         \u001b[0mx_bins\u001b[0m\u001b[0;34m=\u001b[0m\u001b[0mx_bins\u001b[0m\u001b[0;34m,\u001b[0m \u001b[0my_bins\u001b[0m\u001b[0;34m=\u001b[0m\u001b[0my_bins\u001b[0m\u001b[0;34m,\u001b[0m\u001b[0;34m\u001b[0m\u001b[0;34m\u001b[0m\u001b[0m\n\u001b[1;32m   1396\u001b[0m         \u001b[0mestimator\u001b[0m\u001b[0;34m=\u001b[0m\u001b[0mestimator\u001b[0m\u001b[0;34m,\u001b[0m \u001b[0mci\u001b[0m\u001b[0;34m=\u001b[0m\u001b[0mci\u001b[0m\u001b[0;34m,\u001b[0m \u001b[0mn_boot\u001b[0m\u001b[0;34m=\u001b[0m\u001b[0mn_boot\u001b[0m\u001b[0;34m,\u001b[0m\u001b[0;34m\u001b[0m\u001b[0;34m\u001b[0m\u001b[0m\n\u001b[0;32m-> 1397\u001b[0;31m         \u001b[0malpha\u001b[0m\u001b[0;34m=\u001b[0m\u001b[0malpha\u001b[0m\u001b[0;34m,\u001b[0m \u001b[0mx_jitter\u001b[0m\u001b[0;34m=\u001b[0m\u001b[0mx_jitter\u001b[0m\u001b[0;34m,\u001b[0m \u001b[0my_jitter\u001b[0m\u001b[0;34m=\u001b[0m\u001b[0my_jitter\u001b[0m\u001b[0;34m,\u001b[0m \u001b[0mlegend\u001b[0m\u001b[0;34m=\u001b[0m\u001b[0mlegend\u001b[0m\u001b[0;34m,\u001b[0m\u001b[0;34m\u001b[0m\u001b[0;34m\u001b[0m\u001b[0m\n\u001b[0m\u001b[1;32m   1398\u001b[0m     )\n\u001b[1;32m   1399\u001b[0m \u001b[0;34m\u001b[0m\u001b[0m\n",
      "\u001b[0;32m~/miniconda3/lib/python3.7/site-packages/seaborn/relational.py\u001b[0m in \u001b[0;36m__init__\u001b[0;34m(self, x, y, hue, size, style, data, palette, hue_order, hue_norm, sizes, size_order, size_norm, dashes, markers, style_order, x_bins, y_bins, units, estimator, ci, n_boot, alpha, x_jitter, y_jitter, legend)\u001b[0m\n\u001b[1;32m    884\u001b[0m \u001b[0;34m\u001b[0m\u001b[0m\n\u001b[1;32m    885\u001b[0m         plot_data = self.establish_variables(\n\u001b[0;32m--> 886\u001b[0;31m             \u001b[0mx\u001b[0m\u001b[0;34m,\u001b[0m \u001b[0my\u001b[0m\u001b[0;34m,\u001b[0m \u001b[0mhue\u001b[0m\u001b[0;34m,\u001b[0m \u001b[0msize\u001b[0m\u001b[0;34m,\u001b[0m \u001b[0mstyle\u001b[0m\u001b[0;34m,\u001b[0m \u001b[0munits\u001b[0m\u001b[0;34m,\u001b[0m \u001b[0mdata\u001b[0m\u001b[0;34m\u001b[0m\u001b[0;34m\u001b[0m\u001b[0m\n\u001b[0m\u001b[1;32m    887\u001b[0m         )\n\u001b[1;32m    888\u001b[0m \u001b[0;34m\u001b[0m\u001b[0m\n",
      "\u001b[0;32m~/miniconda3/lib/python3.7/site-packages/seaborn/relational.py\u001b[0m in \u001b[0;36mestablish_variables\u001b[0;34m(self, x, y, hue, size, style, units, data)\u001b[0m\n\u001b[1;32m    150\u001b[0m                 \u001b[0munits\u001b[0m\u001b[0;34m=\u001b[0m\u001b[0munits\u001b[0m\u001b[0;34m\u001b[0m\u001b[0;34m\u001b[0m\u001b[0m\n\u001b[1;32m    151\u001b[0m             )\n\u001b[0;32m--> 152\u001b[0;31m             \u001b[0mplot_data\u001b[0m \u001b[0;34m=\u001b[0m \u001b[0mpd\u001b[0m\u001b[0;34m.\u001b[0m\u001b[0mDataFrame\u001b[0m\u001b[0;34m(\u001b[0m\u001b[0mplot_data\u001b[0m\u001b[0;34m)\u001b[0m\u001b[0;34m\u001b[0m\u001b[0;34m\u001b[0m\u001b[0m\n\u001b[0m\u001b[1;32m    153\u001b[0m \u001b[0;34m\u001b[0m\u001b[0m\n\u001b[1;32m    154\u001b[0m         \u001b[0;31m# Option 3:\u001b[0m\u001b[0;34m\u001b[0m\u001b[0;34m\u001b[0m\u001b[0;34m\u001b[0m\u001b[0m\n",
      "\u001b[0;32m~/miniconda3/lib/python3.7/site-packages/pandas/core/frame.py\u001b[0m in \u001b[0;36m__init__\u001b[0;34m(self, data, index, columns, dtype, copy)\u001b[0m\n\u001b[1;32m    433\u001b[0m             )\n\u001b[1;32m    434\u001b[0m         \u001b[0;32melif\u001b[0m \u001b[0misinstance\u001b[0m\u001b[0;34m(\u001b[0m\u001b[0mdata\u001b[0m\u001b[0;34m,\u001b[0m \u001b[0mdict\u001b[0m\u001b[0;34m)\u001b[0m\u001b[0;34m:\u001b[0m\u001b[0;34m\u001b[0m\u001b[0;34m\u001b[0m\u001b[0m\n\u001b[0;32m--> 435\u001b[0;31m             \u001b[0mmgr\u001b[0m \u001b[0;34m=\u001b[0m \u001b[0minit_dict\u001b[0m\u001b[0;34m(\u001b[0m\u001b[0mdata\u001b[0m\u001b[0;34m,\u001b[0m \u001b[0mindex\u001b[0m\u001b[0;34m,\u001b[0m \u001b[0mcolumns\u001b[0m\u001b[0;34m,\u001b[0m \u001b[0mdtype\u001b[0m\u001b[0;34m=\u001b[0m\u001b[0mdtype\u001b[0m\u001b[0;34m)\u001b[0m\u001b[0;34m\u001b[0m\u001b[0;34m\u001b[0m\u001b[0m\n\u001b[0m\u001b[1;32m    436\u001b[0m         \u001b[0;32melif\u001b[0m \u001b[0misinstance\u001b[0m\u001b[0;34m(\u001b[0m\u001b[0mdata\u001b[0m\u001b[0;34m,\u001b[0m \u001b[0mma\u001b[0m\u001b[0;34m.\u001b[0m\u001b[0mMaskedArray\u001b[0m\u001b[0;34m)\u001b[0m\u001b[0;34m:\u001b[0m\u001b[0;34m\u001b[0m\u001b[0;34m\u001b[0m\u001b[0m\n\u001b[1;32m    437\u001b[0m             \u001b[0;32mimport\u001b[0m \u001b[0mnumpy\u001b[0m\u001b[0;34m.\u001b[0m\u001b[0mma\u001b[0m\u001b[0;34m.\u001b[0m\u001b[0mmrecords\u001b[0m \u001b[0;32mas\u001b[0m \u001b[0mmrecords\u001b[0m\u001b[0;34m\u001b[0m\u001b[0;34m\u001b[0m\u001b[0m\n",
      "\u001b[0;32m~/miniconda3/lib/python3.7/site-packages/pandas/core/internals/construction.py\u001b[0m in \u001b[0;36minit_dict\u001b[0;34m(data, index, columns, dtype)\u001b[0m\n\u001b[1;32m    252\u001b[0m             \u001b[0marr\u001b[0m \u001b[0;32mif\u001b[0m \u001b[0;32mnot\u001b[0m \u001b[0mis_datetime64tz_dtype\u001b[0m\u001b[0;34m(\u001b[0m\u001b[0marr\u001b[0m\u001b[0;34m)\u001b[0m \u001b[0;32melse\u001b[0m \u001b[0marr\u001b[0m\u001b[0;34m.\u001b[0m\u001b[0mcopy\u001b[0m\u001b[0;34m(\u001b[0m\u001b[0;34m)\u001b[0m \u001b[0;32mfor\u001b[0m \u001b[0marr\u001b[0m \u001b[0;32min\u001b[0m \u001b[0marrays\u001b[0m\u001b[0;34m\u001b[0m\u001b[0;34m\u001b[0m\u001b[0m\n\u001b[1;32m    253\u001b[0m         ]\n\u001b[0;32m--> 254\u001b[0;31m     \u001b[0;32mreturn\u001b[0m \u001b[0marrays_to_mgr\u001b[0m\u001b[0;34m(\u001b[0m\u001b[0marrays\u001b[0m\u001b[0;34m,\u001b[0m \u001b[0mdata_names\u001b[0m\u001b[0;34m,\u001b[0m \u001b[0mindex\u001b[0m\u001b[0;34m,\u001b[0m \u001b[0mcolumns\u001b[0m\u001b[0;34m,\u001b[0m \u001b[0mdtype\u001b[0m\u001b[0;34m=\u001b[0m\u001b[0mdtype\u001b[0m\u001b[0;34m)\u001b[0m\u001b[0;34m\u001b[0m\u001b[0;34m\u001b[0m\u001b[0m\n\u001b[0m\u001b[1;32m    255\u001b[0m \u001b[0;34m\u001b[0m\u001b[0m\n\u001b[1;32m    256\u001b[0m \u001b[0;34m\u001b[0m\u001b[0m\n",
      "\u001b[0;32m~/miniconda3/lib/python3.7/site-packages/pandas/core/internals/construction.py\u001b[0m in \u001b[0;36marrays_to_mgr\u001b[0;34m(arrays, arr_names, index, columns, dtype)\u001b[0m\n\u001b[1;32m     62\u001b[0m     \u001b[0;31m# figure out the index, if necessary\u001b[0m\u001b[0;34m\u001b[0m\u001b[0;34m\u001b[0m\u001b[0;34m\u001b[0m\u001b[0m\n\u001b[1;32m     63\u001b[0m     \u001b[0;32mif\u001b[0m \u001b[0mindex\u001b[0m \u001b[0;32mis\u001b[0m \u001b[0;32mNone\u001b[0m\u001b[0;34m:\u001b[0m\u001b[0;34m\u001b[0m\u001b[0;34m\u001b[0m\u001b[0m\n\u001b[0;32m---> 64\u001b[0;31m         \u001b[0mindex\u001b[0m \u001b[0;34m=\u001b[0m \u001b[0mextract_index\u001b[0m\u001b[0;34m(\u001b[0m\u001b[0marrays\u001b[0m\u001b[0;34m)\u001b[0m\u001b[0;34m\u001b[0m\u001b[0;34m\u001b[0m\u001b[0m\n\u001b[0m\u001b[1;32m     65\u001b[0m     \u001b[0;32melse\u001b[0m\u001b[0;34m:\u001b[0m\u001b[0;34m\u001b[0m\u001b[0;34m\u001b[0m\u001b[0m\n\u001b[1;32m     66\u001b[0m         \u001b[0mindex\u001b[0m \u001b[0;34m=\u001b[0m \u001b[0mensure_index\u001b[0m\u001b[0;34m(\u001b[0m\u001b[0mindex\u001b[0m\u001b[0;34m)\u001b[0m\u001b[0;34m\u001b[0m\u001b[0;34m\u001b[0m\u001b[0m\n",
      "\u001b[0;32m~/miniconda3/lib/python3.7/site-packages/pandas/core/internals/construction.py\u001b[0m in \u001b[0;36mextract_index\u001b[0;34m(data)\u001b[0m\n\u001b[1;32m    376\u001b[0m                         \u001b[0;34mf\"length {len(index)}\"\u001b[0m\u001b[0;34m\u001b[0m\u001b[0;34m\u001b[0m\u001b[0m\n\u001b[1;32m    377\u001b[0m                     )\n\u001b[0;32m--> 378\u001b[0;31m                     \u001b[0;32mraise\u001b[0m \u001b[0mValueError\u001b[0m\u001b[0;34m(\u001b[0m\u001b[0mmsg\u001b[0m\u001b[0;34m)\u001b[0m\u001b[0;34m\u001b[0m\u001b[0;34m\u001b[0m\u001b[0m\n\u001b[0m\u001b[1;32m    379\u001b[0m             \u001b[0;32melse\u001b[0m\u001b[0;34m:\u001b[0m\u001b[0;34m\u001b[0m\u001b[0;34m\u001b[0m\u001b[0m\n\u001b[1;32m    380\u001b[0m                 \u001b[0mindex\u001b[0m \u001b[0;34m=\u001b[0m \u001b[0mibase\u001b[0m\u001b[0;34m.\u001b[0m\u001b[0mdefault_index\u001b[0m\u001b[0;34m(\u001b[0m\u001b[0mlengths\u001b[0m\u001b[0;34m[\u001b[0m\u001b[0;36m0\u001b[0m\u001b[0;34m]\u001b[0m\u001b[0;34m)\u001b[0m\u001b[0;34m\u001b[0m\u001b[0;34m\u001b[0m\u001b[0m\n",
      "\u001b[0;31mValueError\u001b[0m: array length 150 does not match index length 151"
     ]
    }
   ],
   "source": [
    "cpp_pca = pd.read_csv(\"iris-pc.csv\", header=None)\n",
    "sns.scatterplot(\n",
    "    cpp_pca.iloc[:, 0],\n",
    "    cpp_pca.iloc[:, 1],\n",
    "    hue=iris.target,\n",
    "    palette=\"deep\",\n",
    "    style=iris.target,\n",
    ")\n",
    "plt.show()"
   ]
  },
  {
   "cell_type": "markdown",
   "id": "later-grammar",
   "metadata": {},
   "source": [
    "> __Conclusion__ : We obtain the same results using sklearn or my cpp library.   The only difference between the 2 plots is the position of the points, if we multiply by -1 `cpp_pca` we obtain the same plots. "
   ]
  },
  {
   "cell_type": "code",
   "execution_count": 7,
   "id": "d70db460-ec22-4ecc-b473-dcf108cae0d5",
   "metadata": {},
   "outputs": [],
   "source": [
    "import os"
   ]
  },
  {
   "cell_type": "code",
   "execution_count": 8,
   "id": "a25bac58-9b55-430c-ae14-b143f2ddb5d1",
   "metadata": {},
   "outputs": [
    {
     "data": {
      "text/plain": [
       "'/home/bouba/lib-linear-alg/examples'"
      ]
     },
     "execution_count": 8,
     "metadata": {},
     "output_type": "execute_result"
    }
   ],
   "source": [
    "os.getcwd()"
   ]
  },
  {
   "cell_type": "code",
   "execution_count": 10,
   "id": "8d9adcc8-23fe-4fb9-8b2d-85f70bb10a42",
   "metadata": {},
   "outputs": [
    {
     "data": {
      "text/html": [
       "<div>\n",
       "<style scoped>\n",
       "    .dataframe tbody tr th:only-of-type {\n",
       "        vertical-align: middle;\n",
       "    }\n",
       "\n",
       "    .dataframe tbody tr th {\n",
       "        vertical-align: top;\n",
       "    }\n",
       "\n",
       "    .dataframe thead th {\n",
       "        text-align: right;\n",
       "    }\n",
       "</style>\n",
       "<table border=\"1\" class=\"dataframe\">\n",
       "  <thead>\n",
       "    <tr style=\"text-align: right;\">\n",
       "      <th></th>\n",
       "      <th>0</th>\n",
       "      <th>1</th>\n",
       "    </tr>\n",
       "  </thead>\n",
       "  <tbody>\n",
       "    <tr>\n",
       "      <th>0</th>\n",
       "      <td>-1.854480</td>\n",
       "      <td>-7.142380</td>\n",
       "    </tr>\n",
       "    <tr>\n",
       "      <th>1</th>\n",
       "      <td>-2.715230</td>\n",
       "      <td>0.545882</td>\n",
       "    </tr>\n",
       "    <tr>\n",
       "      <th>2</th>\n",
       "      <td>-2.565820</td>\n",
       "      <td>-0.484300</td>\n",
       "    </tr>\n",
       "    <tr>\n",
       "      <th>3</th>\n",
       "      <td>-2.763970</td>\n",
       "      <td>-0.220805</td>\n",
       "    </tr>\n",
       "    <tr>\n",
       "      <th>4</th>\n",
       "      <td>-2.691530</td>\n",
       "      <td>-0.455707</td>\n",
       "    </tr>\n",
       "    <tr>\n",
       "      <th>...</th>\n",
       "      <td>...</td>\n",
       "      <td>...</td>\n",
       "    </tr>\n",
       "    <tr>\n",
       "      <th>146</th>\n",
       "      <td>2.383480</td>\n",
       "      <td>0.296200</td>\n",
       "    </tr>\n",
       "    <tr>\n",
       "      <th>147</th>\n",
       "      <td>2.123720</td>\n",
       "      <td>-0.788487</td>\n",
       "    </tr>\n",
       "    <tr>\n",
       "      <th>148</th>\n",
       "      <td>2.122260</td>\n",
       "      <td>0.231651</td>\n",
       "    </tr>\n",
       "    <tr>\n",
       "      <th>149</th>\n",
       "      <td>2.074340</td>\n",
       "      <td>0.775761</td>\n",
       "    </tr>\n",
       "    <tr>\n",
       "      <th>150</th>\n",
       "      <td>0.007948</td>\n",
       "      <td>-0.125462</td>\n",
       "    </tr>\n",
       "  </tbody>\n",
       "</table>\n",
       "<p>151 rows × 2 columns</p>\n",
       "</div>"
      ],
      "text/plain": [
       "            0         1\n",
       "0   -1.854480 -7.142380\n",
       "1   -2.715230  0.545882\n",
       "2   -2.565820 -0.484300\n",
       "3   -2.763970 -0.220805\n",
       "4   -2.691530 -0.455707\n",
       "..        ...       ...\n",
       "146  2.383480  0.296200\n",
       "147  2.123720 -0.788487\n",
       "148  2.122260  0.231651\n",
       "149  2.074340  0.775761\n",
       "150  0.007948 -0.125462\n",
       "\n",
       "[151 rows x 2 columns]"
      ]
     },
     "execution_count": 10,
     "metadata": {},
     "output_type": "execute_result"
    }
   ],
   "source": [
    "cpp_pca"
   ]
  },
  {
   "cell_type": "code",
   "execution_count": null,
   "id": "7fe5ad4d-2791-4803-9129-142b5392a43c",
   "metadata": {},
   "outputs": [],
   "source": []
  }
 ],
 "metadata": {
  "kernelspec": {
   "display_name": "Python 3",
   "language": "python",
   "name": "python3"
  },
  "language_info": {
   "codemirror_mode": {
    "name": "ipython",
    "version": 3
   },
   "file_extension": ".py",
   "mimetype": "text/x-python",
   "name": "python",
   "nbconvert_exporter": "python",
   "pygments_lexer": "ipython3",
   "version": "3.7.9"
  }
 },
 "nbformat": 4,
 "nbformat_minor": 5
}
