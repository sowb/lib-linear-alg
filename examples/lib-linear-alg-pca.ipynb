{
 "cells": [
  {
   "cell_type": "markdown",
   "id": "2cf67dff-babf-46f6-80c1-99a59a2ef990",
   "metadata": {},
   "source": [
    "<!--\n",
    "```yaml\n",
    "---\n",
    "title: \"Principal Component Analysis using Python (sklearn) and C++ library\n",
    "date: \"2021-09-15\"\n",
    "---\n",
    "```\n",
    "-->"
   ]
  },
  {
   "cell_type": "markdown",
   "id": "lovely-score",
   "metadata": {},
   "source": [
    "# Introduction  \n",
    "I have written from scratch a C++ linear algebra library. This library can perform basic matrix arithmetic operations, compute some statistics, matrix transformations, and algorithms such as, householder reflections, the QR algorithm, the Singular Value Decompostion, etc (also implemented from scratch). The library perform the Principal Components Analysis of a matrix using the implemented SVD. I call the library *libLinearAlg*. \n",
    "\n",
    "In this tutorial, I show how to use libLinearAlg, then  I compare the  PCA results  obtained by using python and my cpp library. \n",
    "\n",
    "To use it, there is nothing to install :\n",
    "\n",
    "* The source code can be downloaded from my github repo: https://github.com/sowb/lib-linear-alg/archive/refs/heads/master.zip\n",
    "\n",
    "* Or run  `git clone https://github.com/sowb/lib-linear-alg.git` on the terminal. \n",
    " \n",
    "* This present notebook is in lib-linear-alg/examples/\n",
    "\n",
    "Make sure that your working directory is the folder lib-linear-alg/examples/"
   ]
  },
  {
   "cell_type": "markdown",
   "id": "5fd83df3-f49c-4816-9e38-fde99cf91601",
   "metadata": {},
   "source": [
    "# Perform PCA on the dataset using python                                          "
   ]
  },
  {
   "cell_type": "code",
   "execution_count": 1,
   "id": "saved-fiction",
   "metadata": {},
   "outputs": [
    {
     "name": "stdout",
     "output_type": "stream",
     "text": [
      "\n",
      "Singular values:  [20.92306556 11.7091661 ]\n",
      "\n",
      "Explained variance:  [0.72962445 0.22850762]\n"
     ]
    },
    {
     "data": {
      "text/html": [
       "<div>\n",
       "<style scoped>\n",
       "    .dataframe tbody tr th:only-of-type {\n",
       "        vertical-align: middle;\n",
       "    }\n",
       "\n",
       "    .dataframe tbody tr th {\n",
       "        vertical-align: top;\n",
       "    }\n",
       "\n",
       "    .dataframe thead th {\n",
       "        text-align: right;\n",
       "    }\n",
       "</style>\n",
       "<table border=\"1\" class=\"dataframe\">\n",
       "  <thead>\n",
       "    <tr style=\"text-align: right;\">\n",
       "      <th></th>\n",
       "      <th>dim_1</th>\n",
       "      <th>dim_2</th>\n",
       "    </tr>\n",
       "  </thead>\n",
       "  <tbody>\n",
       "    <tr>\n",
       "      <th>0</th>\n",
       "      <td>-2.264703</td>\n",
       "      <td>0.480027</td>\n",
       "    </tr>\n",
       "    <tr>\n",
       "      <th>1</th>\n",
       "      <td>-2.080961</td>\n",
       "      <td>-0.674134</td>\n",
       "    </tr>\n",
       "    <tr>\n",
       "      <th>2</th>\n",
       "      <td>-2.364229</td>\n",
       "      <td>-0.341908</td>\n",
       "    </tr>\n",
       "    <tr>\n",
       "      <th>3</th>\n",
       "      <td>-2.299384</td>\n",
       "      <td>-0.597395</td>\n",
       "    </tr>\n",
       "    <tr>\n",
       "      <th>4</th>\n",
       "      <td>-2.389842</td>\n",
       "      <td>0.646835</td>\n",
       "    </tr>\n",
       "  </tbody>\n",
       "</table>\n",
       "</div>"
      ],
      "text/plain": [
       "      dim_1     dim_2\n",
       "0 -2.264703  0.480027\n",
       "1 -2.080961 -0.674134\n",
       "2 -2.364229 -0.341908\n",
       "3 -2.299384 -0.597395\n",
       "4 -2.389842  0.646835"
      ]
     },
     "execution_count": 1,
     "metadata": {},
     "output_type": "execute_result"
    }
   ],
   "source": [
    "import pandas as pd\n",
    "from sklearn.decomposition import PCA\n",
    "from sklearn.preprocessing import StandardScaler\n",
    "from sklearn import datasets\n",
    "\n",
    "# load iris\n",
    "iris = datasets.load_iris()\n",
    "iris_scaled = StandardScaler().fit_transform(iris.data)\n",
    "\n",
    "pca = PCA(n_components=2)  # PCA in 2 dimensions\n",
    "components = pca.fit_transform(iris_scaled)\n",
    "\n",
    "print(\"\\nSingular values: \", pca.singular_values_)\n",
    "print(\"\\nExplained variance: \", pca.explained_variance_ratio_)\n",
    "\n",
    "python_pca = pd.DataFrame(data=components, columns=[\"dim_1\", \"dim_2\"])\n",
    "python_pca.head()  # 5 first rows"
   ]
  },
  {
   "cell_type": "markdown",
   "id": "635edaa6-a2b3-44f4-b29a-7a5b4f921f64",
   "metadata": {},
   "source": [
    "# Perform PCA using libLinearAlg on C++\n",
    "* Download the iris dataset "
   ]
  },
  {
   "cell_type": "code",
   "execution_count": 2,
   "id": "bc45d63d-1588-41f9-9ac9-d71e4d72ec64",
   "metadata": {},
   "outputs": [],
   "source": [
    "iris = datasets.load_iris()\n",
    "\n",
    "# download the data in a csv file\n",
    "pd.DataFrame(iris.data).to_csv(\"iris.data\", header = False, index = False)"
   ]
  },
  {
   "cell_type": "markdown",
   "id": "f1544e35-bb5a-4484-b7c8-512ceb4aa5f8",
   "metadata": {},
   "source": [
    "* The cpp file to perform this task is examples/pca-iris.cpp. This file load, print the data; and perform PCA, save the results in a csv file. The code be compiled on a linux or windows terminal, as shown below.   \n",
    "\n",
    "pca-iris.cpp : \n",
    "\n",
    "```cpp\n",
    "#include <iostream>                                                              \n",
    "#include <string>  \n",
    "#include \"../include/matrix.h\"  \n",
    "\n",
    "using namespace std;                                                             \n",
    "\n",
    "int main()                                                                       \n",
    "{                                                                                \n",
    "     //Load the iris data                                                         \n",
    "     Matrix Iris(\"iris.data\", \",\", false);                                        \n",
    "\n",
    "     // Check dim\n",
    "     print(\"\\nThe dataset dimension\");\n",
    "     Iris.shape();                                                                \n",
    "\n",
    "     // Print the data                                                            \n",
    "     Iris.head(5);                                                                \n",
    "\n",
    "     // Scale the data, perform PCA                                               \n",
    "     Iris = scale(Iris, \"col\");                                                   \n",
    "\n",
    "     Matrix Comp, Z, ExpVar;                                                      \n",
    "     PCA(Iris, &Comp, &Z, &ExpVar, 2);                                            \n",
    "\n",
    "     //Print the results                                                          \n",
    "     print(\"\\nPrincipal components\");                                             \n",
    "     Comp.head(5);                                                                \n",
    "     Z.print(\"Singular Values\");                                                  \n",
    "     ExpVar.print(\"Explained variance\");                                          \n",
    "\n",
    "     // Save the results                                                          \n",
    "     Comp.to_csv(\"iris-pc.csv\");                                                  \n",
    "     Z.to_csv(\"iris-sing-vals.csv\");                                              \n",
    "     ExpVar.to_csv(\"iris-exp-var.csv\");                                           \n",
    "\n",
    "     return 0;                                                                    \n",
    "}                                                                                \n",
    "```        "
   ]
  },
  {
   "cell_type": "markdown",
   "id": "ethical-utility",
   "metadata": {},
   "source": [
    "### Compile the cpp file on linux "
   ]
  },
  {
   "cell_type": "code",
   "execution_count": 3,
   "id": "alive-wrestling",
   "metadata": {},
   "outputs": [
    {
     "name": "stdout",
     "output_type": "stream",
     "text": [
      "\n",
      "The dataset dimension\n",
      "(nb_rows, nb_cols) = (150, 4)\n",
      "5 first rows:\n",
      "      5.10       3.50       1.40       0.20 \n",
      "      4.90          3       1.40       0.20 \n",
      "      4.70       3.20       1.30       0.20 \n",
      "      4.60       3.10       1.50       0.20 \n",
      "         5       3.60       1.40       0.20 \n",
      "\n",
      "Principal components\n",
      "5 first rows:\n",
      "      2.26      -0.48 \n",
      "      2.08       0.67 \n",
      "      2.36       0.34 \n",
      "      2.30       0.60 \n",
      "      2.39      -0.65 \n",
      "Singular Values\n",
      "     20.92      11.71 \n",
      "Explained variance\n",
      "      0.73       0.23 \n"
     ]
    }
   ],
   "source": [
    "%%bash\n",
    "g++ -std=c++11 pca-iris.cpp ../lib-unix/libLinearAlg.a && ./a.out"
   ]
  },
  {
   "cell_type": "markdown",
   "id": "5794bf9c-da9d-4a90-815f-91577277141c",
   "metadata": {},
   "source": [
    "<!--\n",
    "### Compile the cpp file on windows\n",
    "```bash\n",
    "g++ -std=c++11 /path/pca-iris.cpp ../lib-windows/libLinearAlg.lib \n",
    "./a.exe\n",
    "```\n",
    "-->"
   ]
  },
  {
   "cell_type": "markdown",
   "id": "35d508b3-58bc-4242-80e4-12e05293cb43",
   "metadata": {},
   "source": [
    "> We obtain almost same results from both, sklearn and libLinearAlg. The only difference is that the results obtained by libLinearAlg is multiplied by a negative sign (no big deal !)"
   ]
  },
  {
   "cell_type": "markdown",
   "id": "sublime-convention",
   "metadata": {
    "tags": []
   },
   "source": [
    "Next, I first plot the principal components obtained by using sklearn. Then I  import in python  and plot the PC  obtained by my C++ library. The point of doing this is to check if I get the same results.  "
   ]
  },
  {
   "cell_type": "markdown",
   "id": "demonstrated-multimedia",
   "metadata": {},
   "source": [
    "# Visualization of the results obtained by python (sklearn) "
   ]
  },
  {
   "cell_type": "code",
   "execution_count": 4,
   "id": "grave-mediterranean",
   "metadata": {},
   "outputs": [
    {
     "data": {
      "image/png": "[encoded data removed]",
      "text/plain": [
       "<Figure size 1008x432 with 1 Axes>"
      ]
     },
     "metadata": {},
     "output_type": "display_data"
    }
   ],
   "source": [
    "import seaborn as sns\n",
    "import matplotlib.pyplot as plt\n",
    "\n",
    "plt.rcParams[\"figure.figsize\"] = [14, 6]\n",
    "sns.set()\n",
    "\n",
    "sns.scatterplot(\n",
    "    data=python_pca,\n",
    "    x=\"dim_1\",\n",
    "    y=\"dim_2\",\n",
    "    hue=iris.target,\n",
    "    palette=\"deep\",\n",
    "    style=iris.target,\n",
    ")\n",
    "plt.show()"
   ]
  },
  {
   "cell_type": "markdown",
   "id": "intimate-structure",
   "metadata": {},
   "source": [
    "# Visualization of the results obtained my cpp library"
   ]
  },
  {
   "cell_type": "code",
   "execution_count": 5,
   "id": "historic-grant",
   "metadata": {},
   "outputs": [
    {
     "data": {
      "image/png": "[encoded data removed]",
      "text/plain": [
       "<Figure size 1008x432 with 1 Axes>"
      ]
     },
     "metadata": {},
     "output_type": "display_data"
    }
   ],
   "source": [
    "cpp_pca = pd.read_csv(\"iris-pc.csv\", header=None)\n",
    "sns.scatterplot(\n",
    "    cpp_pca.iloc[:, 0],\n",
    "    cpp_pca.iloc[:, 1],\n",
    "    hue=iris.target,\n",
    "    palette=\"deep\",\n",
    "    style=iris.target,\n",
    ")\n",
    "plt.show()"
   ]
  },
  {
   "cell_type": "markdown",
   "id": "later-grammar",
   "metadata": {},
   "source": [
    "> __Conclusion__ : We obtain the same results using sklearn or my cpp library.   The only difference between the 2 plots is the position of the points, if we multiply by -1 `cpp_pca` we obtain the same plots. "
   ]
  },
  {
   "cell_type": "markdown",
   "id": "cbae4aab-42fc-48e7-947c-4a0a16130bd2",
   "metadata": {},
   "source": [
    "* The documention of the implementation : https://sowb.github.io/2021/09/15/writting-a-linear-algebra-library-on-c-/\n",
    "\n",
    "* The source code repo : https://github.com/sowb/lib-linear-alg"
   ]
  }
 ],
 "metadata": {
  "kernelspec": {
   "display_name": "Python 3",
   "language": "python",
   "name": "python3"
  },
  "language_info": {
   "codemirror_mode": {
    "name": "ipython",
    "version": 3
   },
   "file_extension": ".py",
   "mimetype": "text/x-python",
   "name": "python",
   "nbconvert_exporter": "python",
   "pygments_lexer": "ipython3",
   "version": "3.7.9"
  },
  "toc": {
   "base_numbering": 1,
   "nav_menu": {},
   "number_sections": true,
   "sideBar": true,
   "skip_h1_title": false,
   "title_cell": "Table of Contents",
   "title_sidebar": "Contents",
   "toc_cell": false,
   "toc_position": {},
   "toc_section_display": true,
   "toc_window_display": false
  }
 },
 "nbformat": 4,
 "nbformat_minor": 5
}
